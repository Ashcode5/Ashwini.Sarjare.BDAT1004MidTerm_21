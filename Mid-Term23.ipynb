{
 "cells": [
  {
   "cell_type": "markdown",
   "id": "91716ec8",
   "metadata": {},
   "source": [
    "Question 23\n",
    "\n",
    "Develop a recursive function tough() that takes two nonnegative integer arguments and outputs a pattern as shown below. Hint: The first argument represents the a of the pattern, where the second argument -- always a pattern of 2 indicates the number *s in the longest line of *s in the pattern"
   ]
  },
  {
   "cell_type": "code",
   "execution_count": 4,
   "id": "060d8816",
   "metadata": {},
   "outputs": [
    {
     "name": "stdout",
     "output_type": "stream",
     "text": [
      "*\n"
     ]
    }
   ],
   "source": [
    "def tough(a, b):\n",
    "    if b == 1:\n",
    "      \n",
    "        print(' ' * a + '*')\n",
    "    else:\n",
    "        \n",
    "      \n",
    "        tough(a + b // 2, b // 2)\n",
    "        \n",
    "        print(' ' * a + '*' * b)\n",
    "   \n",
    "        tough(a + b // 2, b // 2)\n",
    " \n",
    "tough(0, 1)  # a 0, b 1"
   ]
  },
  {
   "cell_type": "code",
   "execution_count": 5,
   "id": "11191158",
   "metadata": {},
   "outputs": [
    {
     "name": "stdout",
     "output_type": "stream",
     "text": [
      " *\n",
      "**\n",
      " *\n"
     ]
    }
   ],
   "source": [
    "tough(0, 2)  # a 0, b 2"
   ]
  },
  {
   "cell_type": "code",
   "execution_count": 6,
   "id": "22360085",
   "metadata": {},
   "outputs": [
    {
     "name": "stdout",
     "output_type": "stream",
     "text": [
      "   *\n",
      "  **\n",
      "   *\n",
      "****\n",
      "   *\n",
      "  **\n",
      "   *\n"
     ]
    }
   ],
   "source": [
    "\n",
    "tough(0, 4)  # a 0, b 4"
   ]
  },
  {
   "cell_type": "code",
   "execution_count": null,
   "id": "3e94eaab",
   "metadata": {},
   "outputs": [],
   "source": []
  }
 ],
 "metadata": {
  "kernelspec": {
   "display_name": "Python 3 (ipykernel)",
   "language": "python",
   "name": "python3"
  },
  "language_info": {
   "codemirror_mode": {
    "name": "ipython",
    "version": 3
   },
   "file_extension": ".py",
   "mimetype": "text/x-python",
   "name": "python",
   "nbconvert_exporter": "python",
   "pygments_lexer": "ipython3",
   "version": "3.9.13"
  }
 },
 "nbformat": 4,
 "nbformat_minor": 5
}
